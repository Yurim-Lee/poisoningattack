{
  "nbformat": 4,
  "nbformat_minor": 0,
  "metadata": {
    "colab": {
      "provenance": []
    },
    "kernelspec": {
      "name": "python3",
      "display_name": "Python 3"
    },
    "language_info": {
      "name": "python"
    },
    "accelerator": "GPU"
  },
  "cells": [
    {
      "cell_type": "code",
      "source": [
        "cd drive/MyDrive/RNN"
      ],
      "metadata": {
        "colab": {
          "base_uri": "https://localhost:8080/"
        },
        "id": "IH8CfGOzxojs",
        "outputId": "cf1707a7-da5f-4579-fc3f-17785462cd20"
      },
      "execution_count": null,
      "outputs": [
        {
          "output_type": "stream",
          "name": "stdout",
          "text": [
            "[Errno 2] No such file or directory: 'drive/MyDrive/RNN'\n",
            "/content/drive/MyDrive/RNN\n"
          ]
        }
      ]
    },
    {
      "cell_type": "code",
      "execution_count": null,
      "metadata": {
        "id": "RObV5uygJRAt"
      },
      "outputs": [],
      "source": [
        "import tensorflow as tf\n",
        "from tensorflow import keras\n",
        "from keras.layers import Dense\n",
        "from keras.models import Sequential\n",
        "from tensorflow.keras.preprocessing import image\n",
        "from tensorflow.keras.preprocessing.image import ImageDataGenerator\n",
        "from keras import layers\n",
        "from keras.layers import SimpleRNN\n",
        "from keras import preprocessing\n",
        "from keras.models import Sequential\n",
        "from keras.layers import Flatten, Dense, Embedding\n",
        "\n",
        "import pandas as pd\n",
        "import numpy as np\n",
        "import matplotlib.pyplot as plt\n",
        "import seaborn as sns\n",
        "import warnings \n",
        "from IPython.display import Image\n",
        "\n",
        "import os\n",
        "import matplotlib.pyplot as plt\n",
        "\n",
        "warnings.filterwarnings('ignore')\n",
        "%matplotlib inline\n"
      ]
    },
    {
      "cell_type": "code",
      "source": [
        "X_train_processing = ImageDataGenerator(rescale = 1./255,\n",
        "                             rotation_range=25, \n",
        "                                   width_shift_range=0.05, \n",
        "                                   height_shift_range=0.05, # 0.05범위 내# 0.05범위 내에서 임의의 값만큼 임의의 방향으로 좌우 이동에서 임의의 값만큼 임의의 방향으로 상하 이동\n",
        "                                   zoom_range=0.2, # (1-0.2)~(1+0.2) => 0.8~1.2 사이에서 임의의 수치만큼 확대/축소\n",
        "                                   horizontal_flip=True, # 좌우로 뒤집기                                   \n",
        "                                   vertical_flip=True,\n",
        "                                   fill_mode='nearest'\n",
        "                                  ) \n",
        "X_validation_processing = ImageDataGenerator(rescale = 1./255)\n",
        "X_test_processing = ImageDataGenerator(rescale = 1./255)"
      ],
      "metadata": {
        "id": "L0BnsW3yM1NA"
      },
      "execution_count": null,
      "outputs": []
    },
    {
      "cell_type": "code",
      "source": [
        "train_dir = 'xray_undersampling/train/'\n",
        "test_dir = 'xray_undersampling/test/'\n",
        "\n",
        "X_train = X_train_processing.flow_from_directory(train_dir,\n",
        "                                                 batch_size=32,\n",
        "                                                 color_mode='grayscale', \n",
        "                                                 class_mode='binary', \n",
        "                                                 target_size=(150,150)) \n",
        "\n",
        "X_test = X_test_processing.flow_from_directory(test_dir,\n",
        "                                               batch_size=32,\n",
        "                                               color_mode='grayscale',\n",
        "                                               class_mode='binary',\n",
        "                                               target_size=(150,150))"
      ],
      "metadata": {
        "colab": {
          "base_uri": "https://localhost:8080/"
        },
        "id": "y0T_ELqDNDek",
        "outputId": "2b079357-2730-44a6-fdf2-211da0e82225"
      },
      "execution_count": null,
      "outputs": [
        {
          "output_type": "stream",
          "name": "stdout",
          "text": [
            "Found 2682 images belonging to 2 classes.\n",
            "Found 624 images belonging to 2 classes.\n"
          ]
        }
      ]
    },
    {
      "cell_type": "code",
      "source": [
        "X_train.class_indices"
      ],
      "metadata": {
        "colab": {
          "base_uri": "https://localhost:8080/"
        },
        "id": "LvJEvfcYRTl_",
        "outputId": "009b702a-5f7a-4baa-84e4-caf1cb54fb0a"
      },
      "execution_count": null,
      "outputs": [
        {
          "output_type": "execute_result",
          "data": {
            "text/plain": [
              "{'NORMAL': 0, 'PNEUMONIA': 1}"
            ]
          },
          "metadata": {},
          "execution_count": 275
        }
      ]
    },
    {
      "cell_type": "code",
      "source": [
        "for image_batch, labels_batch in X_train:\n",
        "  print(image_batch.shape)\n",
        "  print(labels_batch.shape)\n",
        "  break"
      ],
      "metadata": {
        "colab": {
          "base_uri": "https://localhost:8080/"
        },
        "id": "bqowyTlHPo-f",
        "outputId": "702970be-b997-49be-d623-339214cb37a2"
      },
      "execution_count": null,
      "outputs": [
        {
          "output_type": "stream",
          "name": "stdout",
          "text": [
            "(32, 150, 150, 1)\n",
            "(32,)\n"
          ]
        }
      ]
    },
    {
      "cell_type": "code",
      "source": [
        "#전체로 numpy배열 추출\n",
        "x_train, y_train = X_train.next()\n",
        "x_test, y_test = X_test.next()\n",
        "\n",
        "print(x_train.shape)\n",
        "print(y_train.shape)\n",
        "print(x_test.shape)\n",
        "print(y_test.shape)"
      ],
      "metadata": {
        "colab": {
          "base_uri": "https://localhost:8080/"
        },
        "id": "VNZuMhxeYudv",
        "outputId": "f11dfc2f-fc54-4e2d-b439-b9bc641d5238"
      },
      "execution_count": null,
      "outputs": [
        {
          "output_type": "stream",
          "name": "stdout",
          "text": [
            "(32, 150, 150, 1)\n",
            "(32,)\n",
            "(32, 150, 150, 1)\n",
            "(32,)\n"
          ]
        }
      ]
    },
    {
      "cell_type": "code",
      "source": [
        "x_train1 = x_train.reshape(*x_train.shape[:1],22500)\n",
        "x_test1 = x_test.reshape(*x_test.shape[:1],22500)\n",
        "print(x_train1.shape)\n",
        "print(x_test1.shape)"
      ],
      "metadata": {
        "colab": {
          "base_uri": "https://localhost:8080/"
        },
        "id": "zgxWRzfrREpU",
        "outputId": "1a52880e-dcd0-428d-dd86-38943d1cf15d"
      },
      "execution_count": null,
      "outputs": [
        {
          "output_type": "stream",
          "name": "stdout",
          "text": [
            "(32, 22500)\n",
            "(32, 22500)\n"
          ]
        }
      ]
    },
    {
      "cell_type": "code",
      "source": [
        "batch_size = 32\n",
        "n_steps = 32\n",
        "n_inputs = 150\n",
        "n_outputs = 2 # 이진분류 이므로\n",
        "\n",
        "model = Sequential()\n",
        "#model.add(Flatten(input_shape=(150,150)))\n",
        "model.add(Embedding(n_steps, n_inputs))\n",
        "model.add(SimpleRNN(32, return_sequences=True))\n",
        "model.add(SimpleRNN(32))\n",
        "model.add(Flatten())\n",
        "model.add(Dense(1, activation='sigmoid'))\n",
        "model.summary()"
      ],
      "metadata": {
        "colab": {
          "base_uri": "https://localhost:8080/"
        },
        "id": "gomIyKusTqp6",
        "outputId": "797a7341-d8d5-48ae-a172-e7bb16ed341c"
      },
      "execution_count": null,
      "outputs": [
        {
          "output_type": "stream",
          "name": "stdout",
          "text": [
            "Model: \"sequential_34\"\n",
            "_________________________________________________________________\n",
            " Layer (type)                Output Shape              Param #   \n",
            "=================================================================\n",
            " embedding_15 (Embedding)    (None, None, 150)         4800      \n",
            "                                                                 \n",
            " simple_rnn_30 (SimpleRNN)   (None, None, 32)          5856      \n",
            "                                                                 \n",
            " simple_rnn_31 (SimpleRNN)   (None, 32)                2080      \n",
            "                                                                 \n",
            " flatten_34 (Flatten)        (None, 32)                0         \n",
            "                                                                 \n",
            " dense_34 (Dense)            (None, 1)                 33        \n",
            "                                                                 \n",
            "=================================================================\n",
            "Total params: 12,769\n",
            "Trainable params: 12,769\n",
            "Non-trainable params: 0\n",
            "_________________________________________________________________\n"
          ]
        }
      ]
    },
    {
      "cell_type": "code",
      "source": [
        "model = tf.keras.Sequential([\n",
        "                           tf.keras.layers.LSTM(units=32,\n",
        "                                                     return_sequences=True,\n",
        "                                                     input_shape=[150,150]),\n",
        "                           tf.keras.layers.LSTM(units=32, return_sequences=True),\n",
        "                           tf.keras.layers.Flatten(),\n",
        "                           tf.keras.layers.Dense(1, activation='sigmoid')\n",
        "])\n",
        "model.summary()"
      ],
      "metadata": {
        "colab": {
          "base_uri": "https://localhost:8080/"
        },
        "id": "TBDPuraYOQ-_",
        "outputId": "bcdc3d70-7745-436b-8979-2eca24a9b525"
      },
      "execution_count": null,
      "outputs": [
        {
          "output_type": "stream",
          "name": "stdout",
          "text": [
            "Model: \"sequential_35\"\n",
            "_________________________________________________________________\n",
            " Layer (type)                Output Shape              Param #   \n",
            "=================================================================\n",
            " lstm_38 (LSTM)              (None, 150, 32)           23424     \n",
            "                                                                 \n",
            " lstm_39 (LSTM)              (None, 150, 32)           8320      \n",
            "                                                                 \n",
            " flatten_35 (Flatten)        (None, 4800)              0         \n",
            "                                                                 \n",
            " dense_35 (Dense)            (None, 1)                 4801      \n",
            "                                                                 \n",
            "=================================================================\n",
            "Total params: 36,545\n",
            "Trainable params: 36,545\n",
            "Non-trainable params: 0\n",
            "_________________________________________________________________\n"
          ]
        }
      ]
    },
    {
      "cell_type": "code",
      "source": [
        "from keras.utils.vis_utils import plot_model\n",
        "plot_model(model, to_file='model_plot.png', show_shapes=True, show_layer_names=True)"
      ],
      "metadata": {
        "colab": {
          "base_uri": "https://localhost:8080/",
          "height": 533
        },
        "id": "g0EsED7WBSOB",
        "outputId": "3720404c-8c87-4761-c205-dd3d5781ec20"
      },
      "execution_count": null,
      "outputs": [
        {
          "output_type": "execute_result",
          "data": {
            "text/plain": [
              "<IPython.core.display.Image object>"
            ],
            "image/png": "[encoded data removed]"
          },
          "metadata": {},
          "execution_count": 281
        }
      ]
    },
    {
      "cell_type": "code",
      "source": [
        "model.compile(\n",
        "    loss=tf.keras.losses.binary_crossentropy,\n",
        "    optimizer=\"sgd\",\n",
        "    metrics=[\"accuracy\"]\n",
        ")\n"
      ],
      "metadata": {
        "id": "cu8nrVhtg-f1"
      },
      "execution_count": null,
      "outputs": []
    },
    {
      "cell_type": "code",
      "source": [
        "history = model.fit(x_train,\n",
        "                    y_train,\n",
        "                    epochs=30,\n",
        "                    steps_per_epoch = len(x_train)/batch_size,\n",
        "                    validation_split=0.2\n",
        "                    )"
      ],
      "metadata": {
        "colab": {
          "base_uri": "https://localhost:8080/"
        },
        "id": "qes6G2wk9pft",
        "outputId": "0c23090d-b117-454a-ff7e-984bdc7ed64b"
      },
      "execution_count": null,
      "outputs": [
        {
          "output_type": "stream",
          "name": "stdout",
          "text": [
            "Epoch 1/30\n",
            "1/1 [==============================] - 4s 4s/step - loss: 0.6804 - accuracy: 0.5600 - val_loss: 0.7045 - val_accuracy: 0.4286\n",
            "Epoch 2/30\n",
            "1/1 [==============================] - 0s 104ms/step - loss: 0.6783 - accuracy: 0.6000 - val_loss: 0.7027 - val_accuracy: 0.4286\n",
            "Epoch 3/30\n",
            "1/1 [==============================] - 0s 109ms/step - loss: 0.6764 - accuracy: 0.6000 - val_loss: 0.7012 - val_accuracy: 0.4286\n",
            "Epoch 4/30\n",
            "1/1 [==============================] - 0s 100ms/step - loss: 0.6745 - accuracy: 0.6000 - val_loss: 0.7000 - val_accuracy: 0.4286\n",
            "Epoch 5/30\n",
            "1/1 [==============================] - 0s 100ms/step - loss: 0.6726 - accuracy: 0.6000 - val_loss: 0.6989 - val_accuracy: 0.4286\n",
            "Epoch 6/30\n",
            "1/1 [==============================] - 0s 104ms/step - loss: 0.6707 - accuracy: 0.6000 - val_loss: 0.6979 - val_accuracy: 0.4286\n",
            "Epoch 7/30\n",
            "1/1 [==============================] - 0s 97ms/step - loss: 0.6689 - accuracy: 0.6800 - val_loss: 0.6970 - val_accuracy: 0.4286\n",
            "Epoch 8/30\n",
            "1/1 [==============================] - 0s 98ms/step - loss: 0.6671 - accuracy: 0.6800 - val_loss: 0.6961 - val_accuracy: 0.4286\n",
            "Epoch 9/30\n",
            "1/1 [==============================] - 0s 114ms/step - loss: 0.6652 - accuracy: 0.7600 - val_loss: 0.6952 - val_accuracy: 0.4286\n",
            "Epoch 10/30\n",
            "1/1 [==============================] - 0s 98ms/step - loss: 0.6634 - accuracy: 0.7600 - val_loss: 0.6944 - val_accuracy: 0.4286\n",
            "Epoch 11/30\n",
            "1/1 [==============================] - 0s 104ms/step - loss: 0.6615 - accuracy: 0.8000 - val_loss: 0.6936 - val_accuracy: 0.5714\n",
            "Epoch 12/30\n",
            "1/1 [==============================] - 0s 105ms/step - loss: 0.6597 - accuracy: 0.8000 - val_loss: 0.6927 - val_accuracy: 0.5714\n",
            "Epoch 13/30\n",
            "1/1 [==============================] - 0s 100ms/step - loss: 0.6578 - accuracy: 0.8000 - val_loss: 0.6919 - val_accuracy: 0.5714\n",
            "Epoch 14/30\n",
            "1/1 [==============================] - 0s 102ms/step - loss: 0.6560 - accuracy: 0.8000 - val_loss: 0.6911 - val_accuracy: 0.5714\n",
            "Epoch 15/30\n",
            "1/1 [==============================] - 0s 101ms/step - loss: 0.6541 - accuracy: 0.8000 - val_loss: 0.6903 - val_accuracy: 0.5714\n",
            "Epoch 16/30\n",
            "1/1 [==============================] - 0s 102ms/step - loss: 0.6522 - accuracy: 0.8000 - val_loss: 0.6896 - val_accuracy: 0.5714\n",
            "Epoch 17/30\n",
            "1/1 [==============================] - 0s 99ms/step - loss: 0.6504 - accuracy: 0.7600 - val_loss: 0.6888 - val_accuracy: 0.5714\n",
            "Epoch 18/30\n",
            "1/1 [==============================] - 0s 97ms/step - loss: 0.6485 - accuracy: 0.7600 - val_loss: 0.6880 - val_accuracy: 0.5714\n",
            "Epoch 19/30\n",
            "1/1 [==============================] - 0s 107ms/step - loss: 0.6466 - accuracy: 0.7600 - val_loss: 0.6872 - val_accuracy: 0.5714\n",
            "Epoch 20/30\n",
            "1/1 [==============================] - 0s 104ms/step - loss: 0.6447 - accuracy: 0.7600 - val_loss: 0.6864 - val_accuracy: 0.5714\n",
            "Epoch 21/30\n",
            "1/1 [==============================] - 0s 97ms/step - loss: 0.6427 - accuracy: 0.7200 - val_loss: 0.6857 - val_accuracy: 0.5714\n",
            "Epoch 22/30\n",
            "1/1 [==============================] - 0s 96ms/step - loss: 0.6408 - accuracy: 0.7200 - val_loss: 0.6849 - val_accuracy: 0.5714\n",
            "Epoch 23/30\n",
            "1/1 [==============================] - 0s 97ms/step - loss: 0.6388 - accuracy: 0.7200 - val_loss: 0.6841 - val_accuracy: 0.5714\n",
            "Epoch 24/30\n",
            "1/1 [==============================] - 0s 106ms/step - loss: 0.6368 - accuracy: 0.7200 - val_loss: 0.6834 - val_accuracy: 0.5714\n",
            "Epoch 25/30\n",
            "1/1 [==============================] - 0s 106ms/step - loss: 0.6348 - accuracy: 0.7200 - val_loss: 0.6826 - val_accuracy: 0.5714\n",
            "Epoch 26/30\n",
            "1/1 [==============================] - 0s 101ms/step - loss: 0.6328 - accuracy: 0.7200 - val_loss: 0.6818 - val_accuracy: 0.5714\n",
            "Epoch 27/30\n",
            "1/1 [==============================] - 0s 97ms/step - loss: 0.6307 - accuracy: 0.7200 - val_loss: 0.6811 - val_accuracy: 0.5714\n",
            "Epoch 28/30\n",
            "1/1 [==============================] - 0s 107ms/step - loss: 0.6286 - accuracy: 0.7600 - val_loss: 0.6803 - val_accuracy: 0.5714\n",
            "Epoch 29/30\n",
            "1/1 [==============================] - 0s 99ms/step - loss: 0.6265 - accuracy: 0.7600 - val_loss: 0.6796 - val_accuracy: 0.5714\n",
            "Epoch 30/30\n",
            "1/1 [==============================] - 0s 95ms/step - loss: 0.6244 - accuracy: 0.7600 - val_loss: 0.6788 - val_accuracy: 0.5714\n"
          ]
        }
      ]
    },
    {
      "cell_type": "code",
      "source": [
        "print(history.history)"
      ],
      "metadata": {
        "colab": {
          "base_uri": "https://localhost:8080/"
        },
        "id": "isu8kHE9Mnf-",
        "outputId": "8e4520d8-8693-4052-9a28-6e4c49528c44"
      },
      "execution_count": null,
      "outputs": [
        {
          "output_type": "stream",
          "name": "stdout",
          "text": [
            "{'loss': [0.6803714036941528, 0.6783204674720764, 0.6763759851455688, 0.674480140209198, 0.6726083159446716, 0.6707497239112854, 0.6688988208770752, 0.6670528650283813, 0.6652092933654785, 0.6633664965629578, 0.6615230441093445, 0.6596774458885193, 0.6578280925750732, 0.6559734344482422, 0.6541121602058411, 0.6522428393363953, 0.6503638625144958, 0.6484735608100891, 0.6465706825256348, 0.6446535587310791, 0.6427205801010132, 0.6407701969146729, 0.638800859451294, 0.6368110775947571, 0.6347991824150085, 0.6327636241912842, 0.6307029128074646, 0.6286154985427856, 0.6264999508857727, 0.6243548393249512], 'accuracy': [0.5600000023841858, 0.6000000238418579, 0.6000000238418579, 0.6000000238418579, 0.6000000238418579, 0.6000000238418579, 0.6800000071525574, 0.6800000071525574, 0.7599999904632568, 0.7599999904632568, 0.800000011920929, 0.800000011920929, 0.800000011920929, 0.800000011920929, 0.800000011920929, 0.800000011920929, 0.7599999904632568, 0.7599999904632568, 0.7599999904632568, 0.7599999904632568, 0.7200000286102295, 0.7200000286102295, 0.7200000286102295, 0.7200000286102295, 0.7200000286102295, 0.7200000286102295, 0.7200000286102295, 0.7599999904632568, 0.7599999904632568, 0.7599999904632568], 'val_loss': [0.7045461535453796, 0.70270836353302, 0.701240599155426, 0.7000036239624023, 0.6989133954048157, 0.6979179978370667, 0.6969852447509766, 0.6960944533348083, 0.6952325105667114, 0.6943909525871277, 0.6935642957687378, 0.6927487254142761, 0.6919420957565308, 0.6911425590515137, 0.6903488039970398, 0.6895603537559509, 0.6887761354446411, 0.6879959106445312, 0.6872190237045288, 0.6864451169967651, 0.6856737732887268, 0.6849046349525452, 0.6841374635696411, 0.6833717226982117, 0.682607114315033, 0.6818432807922363, 0.6810798048973083, 0.6803163886070251, 0.6795524954795837, 0.6787877082824707], 'val_accuracy': [0.4285714328289032, 0.4285714328289032, 0.4285714328289032, 0.4285714328289032, 0.4285714328289032, 0.4285714328289032, 0.4285714328289032, 0.4285714328289032, 0.4285714328289032, 0.4285714328289032, 0.5714285969734192, 0.5714285969734192, 0.5714285969734192, 0.5714285969734192, 0.5714285969734192, 0.5714285969734192, 0.5714285969734192, 0.5714285969734192, 0.5714285969734192, 0.5714285969734192, 0.5714285969734192, 0.5714285969734192, 0.5714285969734192, 0.5714285969734192, 0.5714285969734192, 0.5714285969734192, 0.5714285969734192, 0.5714285969734192, 0.5714285969734192, 0.5714285969734192]}\n"
          ]
        }
      ]
    },
    {
      "cell_type": "code",
      "source": [
        "model.evaluate(x_test, y_test, verbose=1)"
      ],
      "metadata": {
        "colab": {
          "base_uri": "https://localhost:8080/"
        },
        "id": "gksn8C2seOFR",
        "outputId": "1fb42f4f-fe11-4e0b-c1c6-ec89b797af1d"
      },
      "execution_count": null,
      "outputs": [
        {
          "output_type": "stream",
          "name": "stdout",
          "text": [
            "1/1 [==============================] - 1s 696ms/step - loss: 0.6771 - accuracy: 0.6250\n"
          ]
        },
        {
          "output_type": "execute_result",
          "data": {
            "text/plain": [
              "[0.6771485805511475, 0.625]"
            ]
          },
          "metadata": {},
          "execution_count": 285
        }
      ]
    },
    {
      "cell_type": "code",
      "source": [
        "model.evaluate(x_train, y_train, verbose=1)"
      ],
      "metadata": {
        "colab": {
          "base_uri": "https://localhost:8080/"
        },
        "id": "8d44IJExz1uy",
        "outputId": "eb66b7dc-b818-4736-86fc-ebe853b8c627"
      },
      "execution_count": null,
      "outputs": [
        {
          "output_type": "stream",
          "name": "stdout",
          "text": [
            "1/1 [==============================] - 0s 41ms/step - loss: 0.6346 - accuracy: 0.7188\n"
          ]
        },
        {
          "output_type": "execute_result",
          "data": {
            "text/plain": [
              "[0.6345618963241577, 0.71875]"
            ]
          },
          "metadata": {},
          "execution_count": 286
        }
      ]
    },
    {
      "cell_type": "code",
      "source": [
        "# 훈련과정 시각화 (정확도)\n",
        "plt.plot(history.history['accuracy'])\n",
        "plt.plot(history.history['val_accuracy'])\n",
        "plt.title('Model accuracy')\n",
        "plt.xlabel('Epoch')\n",
        "plt.ylabel('Accuracy')\n",
        "plt.legend(['Train', 'Test'], loc='upper left')\n",
        "plt.show()"
      ],
      "metadata": {
        "colab": {
          "base_uri": "https://localhost:8080/",
          "height": 295
        },
        "id": "9H7nU5AdMTV9",
        "outputId": "ccf7986a-aefe-4730-dbff-48c1df07a557"
      },
      "execution_count": null,
      "outputs": [
        {
          "output_type": "display_data",
          "data": {
            "text/plain": [
              "<Figure size 432x288 with 1 Axes>"
            ],
            "image/png": "[encoded data removed]"
          },
          "metadata": {
            "needs_background": "light"
          }
        }
      ]
    },
    {
      "cell_type": "code",
      "source": [
        "# 7 훈련 과정 시각화 (손실)\n",
        "plt.plot(history.history['loss'])\n",
        "plt.plot(history.history['val_loss'])\n",
        "plt.title('Model loss')\n",
        "plt.xlabel('Epoch')\n",
        "plt.ylabel('Loss')\n",
        "plt.legend(['Train', 'Test'], loc='upper left')\n",
        "plt.show()"
      ],
      "metadata": {
        "colab": {
          "base_uri": "https://localhost:8080/",
          "height": 295
        },
        "id": "2g15XHnMMXAc",
        "outputId": "468a11f6-06e5-4a8c-abdf-2e95c5e467a3"
      },
      "execution_count": null,
      "outputs": [
        {
          "output_type": "display_data",
          "data": {
            "text/plain": [
              "<Figure size 432x288 with 1 Axes>"
            ],
            "image/png": "[encoded data removed]"
          },
          "metadata": {
            "needs_background": "light"
          }
        }
      ]
    }
  ]
}
