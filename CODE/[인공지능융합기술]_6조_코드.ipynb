{
  "cells": [
    {
      "cell_type": "markdown",
      "source": [
        "# 1. CNN\n",
        "\n"
      ],
      "metadata": {
        "id": "0NkygLZPBF42"
      }
    },
    {
      "cell_type": "code",
      "execution_count": null,
      "metadata": {
        "id": "Zj7dYu927Oyj"
      },
      "outputs": [],
      "source": [
        "%matplotlib inline\n",
        "import matplotlib.pyplot as plt\n",
        "import numpy as np\n",
        "from sklearn.metrics import confusion_matrix\n",
        "import time\n",
        "from datetime import timedelta\n",
        "import math"
      ]
    },
    {
      "cell_type": "code",
      "execution_count": null,
      "metadata": {
        "id": "b6Rm5c-77Oyl"
      },
      "outputs": [],
      "source": [
        "from tensorflow.keras.preprocessing import image\n",
        "from tensorflow.keras.preprocessing.image import ImageDataGenerator"
      ]
    },
    {
      "cell_type": "markdown",
      "source": [
        "## 데이터 전처리"
      ],
      "metadata": {
        "id": "fyP-ef8Y7Rvn"
      }
    },
    {
      "cell_type": "code",
      "execution_count": null,
      "metadata": {
        "id": "m-ArtXP87Oym"
      },
      "outputs": [],
      "source": [
        "X_train_processing = ImageDataGenerator(rescale = 1./255,\n",
        "                                   rotation_range=25, # 0~25도 사이에서 임의의 각도로 원본이미지를 회전\n",
        "                                   width_shift_range=0.05, # 0.05범위 내에서 임의의 값만큼 임의의 방향으로 좌우 이동\n",
        "                                   height_shift_range=0.05, # 0.05범위 내에서 임의의 값만큼 임의의 방향으로 상하 이동\n",
        "                                   zoom_range=0.2, # (1-0.2)~(1+0.2) => 0.8~1.2 사이에서 임의의 수치만큼 확대/축소\n",
        "                                   horizontal_flip=True, # 좌우로 뒤집기                                   \n",
        "                                   vertical_flip=True,\n",
        "                                   fill_mode='nearest'\n",
        "                                  ) \n",
        "X_validation_processing = ImageDataGenerator(rescale = 1./255)\n",
        "X_test_processing = ImageDataGenerator(rescale = 1./255)"
      ]
    },
    {
      "cell_type": "code",
      "execution_count": null,
      "metadata": {
        "id": "_spR4g4B7Oym"
      },
      "outputs": [],
      "source": [
        "#w/o poisoning\n",
        "#train_dir = './xray_undersampling/train/'\n",
        "#test_dir = './xray_undersampling/test/'"
      ]
    },
    {
      "cell_type": "code",
      "execution_count": null,
      "metadata": {
        "id": "65_sfZ-y7Oyn"
      },
      "outputs": [],
      "source": [
        "#poisoning dataset\n",
        "train_dir = './50%/train/'\n",
        "test_dir = './50%/test/'"
      ]
    },
    {
      "cell_type": "code",
      "execution_count": null,
      "metadata": {
        "id": "Xyfl1MGi7Oyn",
        "outputId": "f55f12f4-b4fe-4b11-930f-a0f0090f5d4e"
      },
      "outputs": [
        {
          "name": "stdout",
          "output_type": "stream",
          "text": [
            "Found 2682 images belonging to 2 classes.\n",
            "Found 624 images belonging to 2 classes.\n"
          ]
        }
      ],
      "source": [
        "X_train = X_train_processing.flow_from_directory(train_dir, \n",
        "                                                    batch_size=16, # 한번에 변환된 이미지 16개씩 만들어라 라는 것\n",
        "                                                    color_mode='grayscale', # grayscale: 흑백 이미지 처리\n",
        "                                                    class_mode='binary', \n",
        "                                                    target_size=(150,150)) # target_size에 맞춰서 이미지의 크기가 조절된다\n",
        "\n",
        "X_test = X_test_processing.flow_from_directory(test_dir,\n",
        "                                                  batch_size=4,\n",
        "                                                  color_mode='grayscale',\n",
        "                                                  class_mode='binary',\n",
        "                                                  target_size=(150,150))"
      ]
    },
    {
      "cell_type": "code",
      "execution_count": null,
      "metadata": {
        "id": "i1-HKljO7Oyo",
        "outputId": "8d4ae111-69fb-4aad-fafb-69377dcbd0c6"
      },
      "outputs": [
        {
          "data": {
            "text/plain": [
              "{'NORMAL': 0, 'PNEUMONIA': 1}"
            ]
          },
          "execution_count": 10,
          "metadata": {},
          "output_type": "execute_result"
        }
      ],
      "source": [
        "X_train.class_indices"
      ]
    },
    {
      "cell_type": "code",
      "execution_count": null,
      "metadata": {
        "id": "xJk8EUIm7Oyp"
      },
      "outputs": [],
      "source": [
        ""
      ]
    },
    {
      "cell_type": "markdown",
      "source": [
        "## 모델 구성"
      ],
      "metadata": {
        "id": "ZzpYUaz67Uwv"
      }
    },
    {
      "cell_type": "code",
      "execution_count": null,
      "metadata": {
        "id": "pckL-KNn7Oyp"
      },
      "outputs": [],
      "source": [
        "import keras\n",
        "import tensorflow as tf\n",
        "from keras import backend as K\n",
        "from keras.models import Sequential\n",
        "\n",
        "from tensorflow.keras.optimizers import RMSprop\n",
        "from keras.callbacks import ModelCheckpoint, Callback, EarlyStopping\n",
        "from keras.utils import np_utils\n",
        "from keras.models import Sequential\n",
        "from keras.layers import Input, Dropout, Flatten, Conv2D, MaxPooling2D, Dense, Activation"
      ]
    },
    {
      "cell_type": "code",
      "execution_count": null,
      "metadata": {
        "id": "tbm8nmeO7Oyq"
      },
      "outputs": [],
      "source": [
        "from functools import partial\n",
        "\n",
        "DefaultConv2D = partial(keras.layers.Conv2D,\n",
        "                        kernel_size=3, activation='relu', padding=\"SAME\")\n",
        "\n",
        "model = keras.models.Sequential([\n",
        "    DefaultConv2D(filters=64, kernel_size=7, input_shape=[150,150, 1]), #커널 7x7, 필터 64개\n",
        "    keras.layers.MaxPooling2D(pool_size=2), #크기 1/2로 줄어듦\n",
        "    DefaultConv2D(filters=128), #나머지는 default로\n",
        "    DefaultConv2D(filters=128),\n",
        "    keras.layers.MaxPooling2D(pool_size=2),\n",
        "    DefaultConv2D(filters=256),\n",
        "    DefaultConv2D(filters=256),\n",
        "    keras.layers.MaxPooling2D(pool_size=2),\n",
        "    keras.layers.Flatten(), #중간에 flatten\n",
        "    keras.layers.Dense(units=128, activation='relu'), \n",
        "    keras.layers.Dropout(0.5),\n",
        "    keras.layers.Dense(units=64, activation='relu'),\n",
        "    keras.layers.Dropout(0.5),\n",
        "    keras.layers.Dense(units=1, activation='sigmoid'),\n",
        "])"
      ]
    },
    {
      "cell_type": "markdown",
      "source": [
        "## 기본 이진분류 & 라벨 스무딩"
      ],
      "metadata": {
        "id": "wsxYCVuh7W43"
      }
    },
    {
      "cell_type": "code",
      "execution_count": null,
      "metadata": {
        "id": "OWQfMaF-7Oyq",
        "outputId": "c7d1c42a-6fef-476d-dfcc-48dda1f580f7"
      },
      "outputs": [
        {
          "name": "stderr",
          "output_type": "stream",
          "text": [
            "/home/agent/.local/lib/python3.8/site-packages/keras/optimizers/optimizer_v2/rmsprop.py:135: UserWarning: The `lr` argument is deprecated, use `learning_rate` instead.\n",
            "  super(RMSprop, self).__init__(name, **kwargs)\n"
          ]
        }
      ],
      "source": [
        "model.compile(\n",
        "    loss=tf.keras.losses.BinaryCrossentropy(label_smoothing=0), #label_smoothing 값 바꿔주기\n",
        "    optimizer=RMSprop(lr=1e-4),\n",
        "    metrics=['acc']\n",
        ")\n"
      ]
    },
    {
      "cell_type": "code",
      "execution_count": null,
      "metadata": {
        "id": "8WaT_Qjh7Oyr",
        "outputId": "9701ebf6-b1bb-42c9-87ca-5a38d2c3b1eb"
      },
      "outputs": [
        {
          "name": "stderr",
          "output_type": "stream",
          "text": [
            "<ipython-input-14-bbda1bd4caff>:1: UserWarning: `Model.fit_generator` is deprecated and will be removed in a future version. Please use `Model.fit`, which supports generators.\n",
            "  history = model.fit_generator(\n"
          ]
        },
        {
          "name": "stdout",
          "output_type": "stream",
          "text": [
            "Epoch 1/30\n",
            "10/10 [==============================] - 18s 1s/step - loss: 0.7080 - acc: 0.4812\n",
            "Epoch 2/30\n",
            "10/10 [==============================] - 13s 1s/step - loss: 0.6942 - acc: 0.5562\n",
            "Epoch 3/30\n",
            "10/10 [==============================] - 13s 1s/step - loss: 0.6970 - acc: 0.4625\n",
            "Epoch 4/30\n",
            "10/10 [==============================] - 13s 1s/step - loss: 0.6967 - acc: 0.5000\n",
            "Epoch 5/30\n",
            "10/10 [==============================] - 12s 1s/step - loss: 0.6944 - acc: 0.4437\n",
            "Epoch 6/30\n",
            "10/10 [==============================] - 12s 1s/step - loss: 0.6943 - acc: 0.4250\n",
            "Epoch 7/30\n",
            "10/10 [==============================] - 12s 1s/step - loss: 0.6933 - acc: 0.4875\n",
            "Epoch 8/30\n",
            "10/10 [==============================] - 12s 1s/step - loss: 0.6920 - acc: 0.5250\n",
            "Epoch 9/30\n",
            "10/10 [==============================] - 12s 1s/step - loss: 0.6955 - acc: 0.4563\n",
            "Epoch 10/30\n",
            "10/10 [==============================] - 12s 1s/step - loss: 0.6938 - acc: 0.5375\n",
            "Epoch 11/30\n",
            "10/10 [==============================] - 12s 1s/step - loss: 0.6958 - acc: 0.4000\n",
            "Epoch 12/30\n",
            "10/10 [==============================] - 12s 1s/step - loss: 0.6938 - acc: 0.4125\n",
            "Epoch 13/30\n",
            "10/10 [==============================] - 12s 1s/step - loss: 0.6932 - acc: 0.5000\n",
            "Epoch 14/30\n",
            "10/10 [==============================] - 12s 1s/step - loss: 0.6937 - acc: 0.4688\n",
            "Epoch 15/30\n",
            "10/10 [==============================] - 12s 1s/step - loss: 0.6936 - acc: 0.4375\n",
            "Epoch 16/30\n",
            "10/10 [==============================] - 12s 1s/step - loss: 0.6947 - acc: 0.5125\n",
            "Epoch 17/30\n",
            "10/10 [==============================] - 12s 1s/step - loss: 0.6935 - acc: 0.4875\n",
            "Epoch 18/30\n",
            "10/10 [==============================] - 12s 1s/step - loss: 0.6926 - acc: 0.5125\n",
            "Epoch 19/30\n",
            "10/10 [==============================] - 12s 1s/step - loss: 0.6956 - acc: 0.4625\n",
            "Epoch 20/30\n",
            "10/10 [==============================] - 12s 1s/step - loss: 0.6926 - acc: 0.5125\n",
            "Epoch 21/30\n",
            "10/10 [==============================] - 12s 1s/step - loss: 0.6910 - acc: 0.5312\n",
            "Epoch 22/30\n",
            "10/10 [==============================] - 12s 1s/step - loss: 0.6950 - acc: 0.4625\n",
            "Epoch 23/30\n",
            "10/10 [==============================] - 12s 1s/step - loss: 0.6915 - acc: 0.5688\n",
            "Epoch 24/30\n",
            "10/10 [==============================] - 12s 1s/step - loss: 0.6963 - acc: 0.4812\n",
            "Epoch 25/30\n",
            "10/10 [==============================] - 12s 1s/step - loss: 0.6939 - acc: 0.5000\n",
            "Epoch 26/30\n",
            "10/10 [==============================] - 12s 1s/step - loss: 0.6945 - acc: 0.5000\n",
            "Epoch 27/30\n",
            "10/10 [==============================] - 12s 1s/step - loss: 0.6934 - acc: 0.5375\n",
            "Epoch 28/30\n",
            "10/10 [==============================] - 12s 1s/step - loss: 0.6943 - acc: 0.4625\n",
            "Epoch 29/30\n",
            "10/10 [==============================] - 12s 1s/step - loss: 0.6942 - acc: 0.4750\n",
            "Epoch 30/30\n",
            "10/10 [==============================] - 12s 1s/step - loss: 0.6931 - acc: 0.4563\n"
          ]
        }
      ],
      "source": [
        "history = model.fit_generator(\n",
        "    X_train,\n",
        "    steps_per_epoch=10,\n",
        "    epochs=30,\n",
        "    validation_steps=50\n",
        ")"
      ]
    },
    {
      "cell_type": "code",
      "execution_count": null,
      "metadata": {
        "id": "dXtUN7qZ7Oyr",
        "outputId": "ff1b6d63-851d-46b0-b5e7-e6a9278f78c1"
      },
      "outputs": [
        {
          "name": "stdout",
          "output_type": "stream",
          "text": [
            "156/156 [==============================] - 11s 71ms/step - loss: 0.6925 - acc: 0.6250\n"
          ]
        },
        {
          "data": {
            "text/plain": [
              "[0.6924883723258972, 0.625]"
            ]
          },
          "execution_count": 15,
          "metadata": {},
          "output_type": "execute_result"
        }
      ],
      "source": [
        "# 모델 성능 평가\n",
        "model.evaluate(X_test)"
      ]
    },
    {
      "cell_type": "markdown",
      "source": [
        "## focal loss"
      ],
      "metadata": {
        "id": "JTknSdXr7dKf"
      }
    },
    {
      "cell_type": "code",
      "execution_count": null,
      "metadata": {
        "id": "vn4DqASf7Oyr"
      },
      "outputs": [],
      "source": [
        "model.compile(\n",
        "    loss=tf.keras.losses.BinaryFocalCrossentropy(),\n",
        "    optimizer=RMSprop(lr=1e-4),\n",
        "    metrics=['acc']\n",
        ")\n"
      ]
    },
    {
      "cell_type": "code",
      "execution_count": null,
      "metadata": {
        "id": "NJc6HOBu7Oys",
        "outputId": "e6da431b-8b8b-4f42-f509-d8501c33be81"
      },
      "outputs": [
        {
          "name": "stdout",
          "output_type": "stream",
          "text": [
            "Epoch 1/30\n"
          ]
        },
        {
          "name": "stderr",
          "output_type": "stream",
          "text": [
            "<ipython-input-17-50da17d6b332>:1: UserWarning: `Model.fit_generator` is deprecated and will be removed in a future version. Please use `Model.fit`, which supports generators.\n",
            "  history = model.fit_generator(\n"
          ]
        },
        {
          "name": "stdout",
          "output_type": "stream",
          "text": [
            "10/10 [==============================] - 13s 1s/step - loss: 0.1740 - acc: 0.4875\n",
            "Epoch 2/30\n",
            "10/10 [==============================] - 11s 1s/step - loss: 0.1734 - acc: 0.4805\n",
            "Epoch 3/30\n",
            "10/10 [==============================] - 12s 1s/step - loss: 0.1735 - acc: 0.4750\n",
            "Epoch 4/30\n",
            "10/10 [==============================] - 12s 1s/step - loss: 0.1734 - acc: 0.4500\n",
            "Epoch 5/30\n",
            "10/10 [==============================] - 12s 1s/step - loss: 0.1727 - acc: 0.5063\n",
            "Epoch 6/30\n",
            "10/10 [==============================] - 12s 1s/step - loss: 0.1739 - acc: 0.4938\n",
            "Epoch 7/30\n",
            "10/10 [==============================] - 12s 1s/step - loss: 0.1739 - acc: 0.4688\n",
            "Epoch 8/30\n",
            "10/10 [==============================] - 11s 1s/step - loss: 0.1730 - acc: 0.5437\n",
            "Epoch 9/30\n",
            "10/10 [==============================] - 12s 1s/step - loss: 0.1727 - acc: 0.5813\n",
            "Epoch 10/30\n",
            "10/10 [==============================] - 11s 1s/step - loss: 0.1724 - acc: 0.5750\n",
            "Epoch 11/30\n",
            "10/10 [==============================] - 12s 1s/step - loss: 0.1737 - acc: 0.4938\n",
            "Epoch 12/30\n",
            "10/10 [==============================] - 12s 1s/step - loss: 0.1748 - acc: 0.4688\n",
            "Epoch 13/30\n",
            "10/10 [==============================] - 13s 1s/step - loss: 0.1730 - acc: 0.5750\n",
            "Epoch 14/30\n",
            "10/10 [==============================] - 12s 1s/step - loss: 0.1732 - acc: 0.5250\n",
            "Epoch 15/30\n",
            "10/10 [==============================] - 12s 1s/step - loss: 0.1732 - acc: 0.5000\n",
            "Epoch 16/30\n",
            "10/10 [==============================] - 13s 1s/step - loss: 0.1739 - acc: 0.5813\n",
            "Epoch 17/30\n",
            "10/10 [==============================] - 13s 1s/step - loss: 0.1744 - acc: 0.4500\n",
            "Epoch 18/30\n",
            "10/10 [==============================] - 12s 1s/step - loss: 0.1729 - acc: 0.4938\n",
            "Epoch 19/30\n",
            "10/10 [==============================] - 12s 1s/step - loss: 0.1737 - acc: 0.4688\n",
            "Epoch 20/30\n",
            "10/10 [==============================] - 12s 1s/step - loss: 0.1734 - acc: 0.5125\n",
            "Epoch 21/30\n",
            "10/10 [==============================] - 12s 1s/step - loss: 0.1739 - acc: 0.4375\n",
            "Epoch 22/30\n",
            "10/10 [==============================] - 11s 1s/step - loss: 0.1735 - acc: 0.4125\n",
            "Epoch 23/30\n",
            "10/10 [==============================] - 12s 1s/step - loss: 0.1733 - acc: 0.4875\n",
            "Epoch 24/30\n",
            "10/10 [==============================] - 12s 1s/step - loss: 0.1724 - acc: 0.5500\n",
            "Epoch 25/30\n",
            "10/10 [==============================] - 12s 1s/step - loss: 0.1748 - acc: 0.4875\n",
            "Epoch 26/30\n",
            "10/10 [==============================] - 13s 1s/step - loss: 0.1733 - acc: 0.5188\n",
            "Epoch 27/30\n",
            "10/10 [==============================] - 14s 1s/step - loss: 0.1749 - acc: 0.4875\n",
            "Epoch 28/30\n",
            "10/10 [==============================] - 13s 1s/step - loss: 0.1738 - acc: 0.4625\n",
            "Epoch 29/30\n",
            "10/10 [==============================] - 12s 1s/step - loss: 0.1726 - acc: 0.5325\n",
            "Epoch 30/30\n",
            "10/10 [==============================] - 13s 1s/step - loss: 0.1723 - acc: 0.5312\n"
          ]
        }
      ],
      "source": [
        "history = model.fit_generator(\n",
        "    X_train,\n",
        "    steps_per_epoch=10, \n",
        "    epochs=30,\n",
        "    validation_steps=50\n",
        ")"
      ]
    },
    {
      "cell_type": "code",
      "execution_count": null,
      "metadata": {
        "id": "DzuqMV9r7Oys",
        "outputId": "4c9d07a9-f070-4f3a-997a-71182dbf124a"
      },
      "outputs": [
        {
          "name": "stdout",
          "output_type": "stream",
          "text": [
            "156/156 [==============================] - 12s 78ms/step - loss: 0.1702 - acc: 0.6250\n"
          ]
        },
        {
          "data": {
            "text/plain": [
              "[0.17023253440856934, 0.625]"
            ]
          },
          "execution_count": 18,
          "metadata": {},
          "output_type": "execute_result"
        }
      ],
      "source": [
        "# 모델 성능 평가\n",
        "model.evaluate(X_test)"
      ]
    },
    {
      "cell_type": "code",
      "execution_count": null,
      "metadata": {
        "id": "itKO4qYQ7Oys"
      },
      "outputs": [],
      "source": [
        ""
      ]
    },
    {
      "cell_type": "markdown",
      "source": [
        "# 2. DNN"
      ],
      "metadata": {
        "id": "C8GvTIa7BYJt"
      }
    },
    {
      "cell_type": "markdown",
      "source": [
        "## 데이터 전처리"
      ],
      "metadata": {
        "id": "s11FHvaUDjcm"
      }
    },
    {
      "cell_type": "code",
      "source": [
        "# TensorFlow and tf.keras\n",
        "import tensorflow as tf\n",
        "\n",
        "# Helper libraries\n",
        "from PIL import Image\n",
        "%matplotlib inline\n",
        "import matplotlib\n",
        "import matplotlib.pyplot as plt\n",
        "import torch\n",
        "from torch.utils.data import Dataset, DataLoader\n",
        "import numpy as np\n",
        "import torchvision\n",
        "from torchvision import transforms\n",
        "import os\n",
        "import cv2"
      ],
      "metadata": {
        "id": "iB96cR4aBbZR"
      },
      "execution_count": null,
      "outputs": []
    },
    {
      "cell_type": "code",
      "source": [
        "from tensorflow.keras.preprocessing import image\n",
        "from tensorflow.keras.preprocessing.image import ImageDataGenerator"
      ],
      "metadata": {
        "id": "LkGGCuCRC8Pq"
      },
      "execution_count": null,
      "outputs": []
    },
    {
      "cell_type": "code",
      "source": [
        "X_train_processing = ImageDataGenerator(rescale = 1./255,\n",
        "                                        width_shift_range=0.05,\n",
        "                                        height_shift_range=0.05,\n",
        "                                        zoom_range=0.2,\n",
        "                                        vertical_flip=True,\n",
        "                                        fill_mode='nearest'\n",
        "                                      )\n",
        "X_validation_processing = ImageDataGenerator(rescale = 1./255)\n",
        "X_test_processing = ImageDataGenerator(rescale = 1./255)"
      ],
      "metadata": {
        "id": "YjNK_TsSC86X"
      },
      "execution_count": null,
      "outputs": []
    },
    {
      "cell_type": "code",
      "source": [
        "train_dir = '20%/train'\n",
        "X_train = X_train_processing.flow_from_directory(train_dir,\n",
        "                                                batch_size=16,\n",
        "                                                color_mode='grayscale',\n",
        "                                                class_mode='binary',\n",
        "                                                target_size=(150,150))\n",
        "\n",
        "test_dir = \"20%/test\"\n",
        "X_test = X_test_processing.flow_from_directory(test_dir,\n",
        "                                                batch_size=4,\n",
        "                                                color_mode='grayscale',\n",
        "                                                class_mode='binary',\n",
        "                                                target_size=(150,150))"
      ],
      "metadata": {
        "colab": {
          "base_uri": "https://localhost:8080/"
        },
        "id": "ZfYWdQ16DN5H",
        "outputId": "c9f07476-9525-44b8-f0b6-180c2ea34ddc"
      },
      "execution_count": null,
      "outputs": [
        {
          "output_type": "stream",
          "name": "stdout",
          "text": [
            "Found 2682 images belonging to 2 classes.\n",
            "Found 624 images belonging to 2 classes.\n"
          ]
        }
      ]
    },
    {
      "cell_type": "markdown",
      "source": [
        "## 모델 구성"
      ],
      "metadata": {
        "id": "AXEv-LEmDWHc"
      }
    },
    {
      "cell_type": "code",
      "source": [
        "#모델 생성\n",
        "input_dim = 1\n",
        "\n",
        "def create_model():\n",
        "  model = tf.keras.Sequential()\n",
        "  #레이어 추가\n",
        "  model.add(tf.keras.layers.Flatten(input_shape=(150, 150, input_dim)))\n",
        "  model.add(tf.keras.layers.Dense(128, activation='relu'))\n",
        "  model.add(tf.keras.layers.Dense(64, activation='relu'))\n",
        "\n",
        "  #출력층\n",
        "  model.add(tf.keras.layers.Dense(1, activation='sigmoid'))\n",
        "\n",
        "  return model"
      ],
      "metadata": {
        "id": "Dbifpl5tDZub"
      },
      "execution_count": null,
      "outputs": []
    },
    {
      "cell_type": "markdown",
      "source": [
        "## 기본 이진 분류 & 라벨 스무딩"
      ],
      "metadata": {
        "id": "EaQjgt6lEPQe"
      }
    },
    {
      "cell_type": "code",
      "source": [
        "model = create_model()\n",
        "\n",
        "model.compile(optimizer='adam',\n",
        "              loss=tf.keras.losses.binary_crossentropy, #loss=tf.keras.losses.BinaryCrossentropy(label_smoothing=0) 사용해서 Lable Smoothing 값 바꿔주기 \n",
        "              metrics=['accuracy'])"
      ],
      "metadata": {
        "id": "QG623ipCEX9S"
      },
      "execution_count": null,
      "outputs": []
    },
    {
      "cell_type": "code",
      "source": [
        "model.fit(\n",
        "    X_train,\n",
        "    epochs=30\n",
        ")"
      ],
      "metadata": {
        "colab": {
          "base_uri": "https://localhost:8080/"
        },
        "id": "f0Pk_ZciEm2w",
        "outputId": "b51abbc0-bcc2-4284-f19e-4446bd5aec6a"
      },
      "execution_count": null,
      "outputs": [
        {
          "output_type": "stream",
          "name": "stdout",
          "text": [
            "Epoch 1/30\n",
            "168/168 [==============================] - 461s 3s/step - loss: 0.7533 - accuracy: 0.5955\n",
            "Epoch 2/30\n",
            "168/168 [==============================] - 51s 303ms/step - loss: 0.7231 - accuracy: 0.5969\n",
            "Epoch 3/30\n",
            "168/168 [==============================] - 50s 299ms/step - loss: 0.6398 - accuracy: 0.6380\n",
            "Epoch 4/30\n",
            "168/168 [==============================] - 51s 302ms/step - loss: 0.6404 - accuracy: 0.6480\n",
            "Epoch 5/30\n",
            "168/168 [==============================] - 51s 304ms/step - loss: 0.6480 - accuracy: 0.6167\n",
            "Epoch 6/30\n",
            "168/168 [==============================] - 50s 299ms/step - loss: 0.6469 - accuracy: 0.6480\n",
            "Epoch 7/30\n",
            "168/168 [==============================] - 50s 296ms/step - loss: 0.6293 - accuracy: 0.6514\n",
            "Epoch 8/30\n",
            "168/168 [==============================] - 50s 297ms/step - loss: 0.6203 - accuracy: 0.6723\n",
            "Epoch 9/30\n",
            "168/168 [==============================] - 51s 307ms/step - loss: 0.6249 - accuracy: 0.6611\n",
            "Epoch 10/30\n",
            "168/168 [==============================] - 50s 297ms/step - loss: 0.6141 - accuracy: 0.6715\n",
            "Epoch 11/30\n",
            "168/168 [==============================] - 50s 297ms/step - loss: 0.6196 - accuracy: 0.6726\n",
            "Epoch 12/30\n",
            "168/168 [==============================] - 51s 304ms/step - loss: 0.6272 - accuracy: 0.6626\n",
            "Epoch 13/30\n",
            "168/168 [==============================] - 50s 296ms/step - loss: 0.6147 - accuracy: 0.6738\n",
            "Epoch 14/30\n",
            "168/168 [==============================] - 50s 296ms/step - loss: 0.6244 - accuracy: 0.6682\n",
            "Epoch 15/30\n",
            "168/168 [==============================] - 51s 305ms/step - loss: 0.6235 - accuracy: 0.6667\n",
            "Epoch 16/30\n",
            "168/168 [==============================] - 50s 298ms/step - loss: 0.6304 - accuracy: 0.6711\n",
            "Epoch 17/30\n",
            "168/168 [==============================] - 50s 298ms/step - loss: 0.6212 - accuracy: 0.6711\n",
            "Epoch 18/30\n",
            "168/168 [==============================] - 50s 298ms/step - loss: 0.6154 - accuracy: 0.6745\n",
            "Epoch 19/30\n",
            "168/168 [==============================] - 51s 305ms/step - loss: 0.6097 - accuracy: 0.6782\n",
            "Epoch 20/30\n",
            "168/168 [==============================] - 50s 299ms/step - loss: 0.6158 - accuracy: 0.6808\n",
            "Epoch 21/30\n",
            "168/168 [==============================] - 50s 298ms/step - loss: 0.6059 - accuracy: 0.6980\n",
            "Epoch 22/30\n",
            "168/168 [==============================] - 51s 306ms/step - loss: 0.6334 - accuracy: 0.6555\n",
            "Epoch 23/30\n",
            "168/168 [==============================] - 50s 300ms/step - loss: 0.6244 - accuracy: 0.6659\n",
            "Epoch 24/30\n",
            "168/168 [==============================] - 51s 304ms/step - loss: 0.6284 - accuracy: 0.6581\n",
            "Epoch 25/30\n",
            "168/168 [==============================] - 52s 306ms/step - loss: 0.6146 - accuracy: 0.6704\n",
            "Epoch 26/30\n",
            "168/168 [==============================] - 50s 298ms/step - loss: 0.6171 - accuracy: 0.6820\n",
            "Epoch 27/30\n",
            "168/168 [==============================] - 50s 299ms/step - loss: 0.6263 - accuracy: 0.6667\n",
            "Epoch 28/30\n",
            "168/168 [==============================] - 50s 299ms/step - loss: 0.6314 - accuracy: 0.6514\n",
            "Epoch 29/30\n",
            "168/168 [==============================] - 52s 307ms/step - loss: 0.6149 - accuracy: 0.6730\n",
            "Epoch 30/30\n",
            "168/168 [==============================] - 50s 299ms/step - loss: 0.6398 - accuracy: 0.6499\n"
          ]
        },
        {
          "output_type": "execute_result",
          "data": {
            "text/plain": [
              "<keras.callbacks.History at 0x7f288ea4ff10>"
            ]
          },
          "metadata": {},
          "execution_count": 24
        }
      ]
    },
    {
      "cell_type": "code",
      "source": [
        "print(\"-- Evaluate --\")\n",
        "test_loss, test_acc = model.evaluate_generator(X_test)\n",
        "\n",
        "print('\\nTest accuracy:', test_acc)\n",
        "print('\\nTest loss:', test_loss)"
      ],
      "metadata": {
        "colab": {
          "base_uri": "https://localhost:8080/"
        },
        "id": "uwObmiMYEpNy",
        "outputId": "350a750d-1104-4a8f-f00e-28e42a99771d"
      },
      "execution_count": null,
      "outputs": [
        {
          "output_type": "stream",
          "name": "stdout",
          "text": [
            "-- Evaluate --\n"
          ]
        },
        {
          "output_type": "stream",
          "name": "stderr",
          "text": [
            "/usr/local/lib/python3.7/dist-packages/ipykernel_launcher.py:2: UserWarning: `Model.evaluate_generator` is deprecated and will be removed in a future version. Please use `Model.evaluate`, which supports generators.\n",
            "  \n"
          ]
        },
        {
          "output_type": "stream",
          "name": "stdout",
          "text": [
            "\n",
            "Test accuracy: 0.8381410241127014\n",
            "\n",
            "Test loss: 0.5013676285743713\n"
          ]
        }
      ]
    },
    {
      "cell_type": "markdown",
      "source": [
        "## focal loss"
      ],
      "metadata": {
        "id": "lCrab-8ZF37r"
      }
    },
    {
      "cell_type": "code",
      "source": [
        "model = create_model()\n",
        "\n",
        "model.compile(optimizer='adam',\n",
        "              loss=tf.keras.losses.binary_focal_crossentropy, \n",
        "              metrics=['accuracy'])"
      ],
      "metadata": {
        "id": "1FepnMqbF7b6"
      },
      "execution_count": null,
      "outputs": []
    },
    {
      "cell_type": "code",
      "source": [
        "model.fit(\n",
        "    X_train,\n",
        "    epochs=30\n",
        ")"
      ],
      "metadata": {
        "colab": {
          "base_uri": "https://localhost:8080/"
        },
        "id": "PNO949iLGN98",
        "outputId": "54fa7e1b-c152-4c69-b836-78f010933b1c"
      },
      "execution_count": null,
      "outputs": [
        {
          "output_type": "stream",
          "name": "stdout",
          "text": [
            "Epoch 1/30\n",
            "168/168 [==============================] - 51s 298ms/step - loss: 0.4734 - accuracy: 0.5645\n",
            "Epoch 2/30\n",
            "168/168 [==============================] - 53s 316ms/step - loss: 0.2308 - accuracy: 0.5705\n",
            "Epoch 3/30\n",
            "168/168 [==============================] - 51s 302ms/step - loss: 0.1842 - accuracy: 0.6167\n",
            "Epoch 4/30\n",
            "168/168 [==============================] - 50s 300ms/step - loss: 0.1685 - accuracy: 0.6066\n",
            "Epoch 5/30\n",
            "168/168 [==============================] - 51s 305ms/step - loss: 0.1601 - accuracy: 0.6499\n",
            "Epoch 6/30\n",
            "168/168 [==============================] - 50s 300ms/step - loss: 0.1638 - accuracy: 0.6283\n",
            "Epoch 7/30\n",
            "168/168 [==============================] - 51s 301ms/step - loss: 0.1597 - accuracy: 0.6518\n",
            "Epoch 8/30\n",
            "168/168 [==============================] - 51s 304ms/step - loss: 0.1681 - accuracy: 0.6350\n",
            "Epoch 9/30\n",
            "168/168 [==============================] - 52s 307ms/step - loss: 0.1606 - accuracy: 0.6424\n",
            "Epoch 10/30\n",
            "168/168 [==============================] - 50s 300ms/step - loss: 0.1561 - accuracy: 0.6659\n",
            "Epoch 11/30\n",
            "168/168 [==============================] - 50s 299ms/step - loss: 0.1588 - accuracy: 0.6525\n",
            "Epoch 12/30\n",
            "168/168 [==============================] - 52s 308ms/step - loss: 0.1719 - accuracy: 0.6491\n",
            "Epoch 13/30\n",
            "168/168 [==============================] - 50s 300ms/step - loss: 0.1564 - accuracy: 0.6663\n",
            "Epoch 14/30\n",
            "168/168 [==============================] - 50s 298ms/step - loss: 0.1575 - accuracy: 0.6603\n",
            "Epoch 15/30\n",
            "168/168 [==============================] - 52s 311ms/step - loss: 0.1573 - accuracy: 0.6674\n",
            "Epoch 16/30\n",
            "168/168 [==============================] - 50s 300ms/step - loss: 0.1592 - accuracy: 0.6555\n",
            "Epoch 17/30\n",
            "168/168 [==============================] - 50s 300ms/step - loss: 0.1554 - accuracy: 0.6831\n",
            "Epoch 18/30\n",
            "168/168 [==============================] - 52s 308ms/step - loss: 0.1566 - accuracy: 0.6696\n",
            "Epoch 19/30\n",
            "168/168 [==============================] - 51s 301ms/step - loss: 0.1593 - accuracy: 0.6529\n",
            "Epoch 20/30\n",
            "168/168 [==============================] - 51s 302ms/step - loss: 0.1610 - accuracy: 0.6380\n",
            "Epoch 21/30\n",
            "168/168 [==============================] - 51s 303ms/step - loss: 0.1568 - accuracy: 0.6682\n",
            "Epoch 22/30\n",
            "168/168 [==============================] - 51s 305ms/step - loss: 0.1583 - accuracy: 0.6682\n",
            "Epoch 23/30\n",
            "168/168 [==============================] - 51s 304ms/step - loss: 0.1576 - accuracy: 0.6734\n",
            "Epoch 24/30\n",
            "168/168 [==============================] - 52s 309ms/step - loss: 0.1586 - accuracy: 0.6663\n",
            "Epoch 25/30\n",
            "168/168 [==============================] - 51s 302ms/step - loss: 0.1556 - accuracy: 0.6861\n",
            "Epoch 26/30\n",
            "168/168 [==============================] - 51s 303ms/step - loss: 0.1596 - accuracy: 0.6667\n",
            "Epoch 27/30\n",
            "168/168 [==============================] - 52s 308ms/step - loss: 0.1579 - accuracy: 0.6652\n",
            "Epoch 28/30\n",
            "168/168 [==============================] - 51s 303ms/step - loss: 0.1612 - accuracy: 0.6585\n",
            "Epoch 29/30\n",
            "168/168 [==============================] - 50s 300ms/step - loss: 0.1568 - accuracy: 0.6793\n",
            "Epoch 30/30\n",
            "168/168 [==============================] - 51s 302ms/step - loss: 0.1557 - accuracy: 0.6741\n"
          ]
        },
        {
          "output_type": "execute_result",
          "data": {
            "text/plain": [
              "<keras.callbacks.History at 0x7f288affa990>"
            ]
          },
          "metadata": {},
          "execution_count": 34
        }
      ]
    },
    {
      "cell_type": "code",
      "source": [
        "print(\"-- Evaluate --\")\n",
        "test_loss, test_acc = model.evaluate_generator(X_test)\n",
        "\n",
        "print('\\nTest accuracy:', test_acc)\n",
        "print('\\nTest loss:', test_loss)"
      ],
      "metadata": {
        "colab": {
          "base_uri": "https://localhost:8080/"
        },
        "id": "bOirQTvTGS3x",
        "outputId": "e95da8a2-8f08-408d-bab2-9b2029cc9191"
      },
      "execution_count": null,
      "outputs": [
        {
          "output_type": "stream",
          "name": "stdout",
          "text": [
            "-- Evaluate --\n"
          ]
        },
        {
          "output_type": "stream",
          "name": "stderr",
          "text": [
            "/usr/local/lib/python3.7/dist-packages/ipykernel_launcher.py:2: UserWarning: `Model.evaluate_generator` is deprecated and will be removed in a future version. Please use `Model.evaluate`, which supports generators.\n",
            "  \n"
          ]
        },
        {
          "output_type": "stream",
          "name": "stdout",
          "text": [
            "\n",
            "Test accuracy: 0.7564102411270142\n",
            "\n",
            "Test loss: 0.15852375328540802\n"
          ]
        }
      ]
    }
  ],
  "metadata": {
    "kernelspec": {
      "display_name": "Python 3",
      "language": "python",
      "name": "python3"
    },
    "language_info": {
      "codemirror_mode": {
        "name": "ipython",
        "version": 3
      },
      "file_extension": ".py",
      "mimetype": "text/x-python",
      "name": "python",
      "nbconvert_exporter": "python",
      "pygments_lexer": "ipython3",
      "version": "3.8.10"
    },
    "colab": {
      "name": "[인공지능_융합기술]_6조.ipynb",
      "provenance": [],
      "collapsed_sections": [],
      "toc_visible": true
    }
  },
  "nbformat": 4,
  "nbformat_minor": 0
}