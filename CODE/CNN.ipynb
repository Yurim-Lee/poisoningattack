{
 "cells": [
  {
   "cell_type": "code",
   "execution_count": 4,
   "metadata": {},
   "outputs": [],
   "source": [
    "%matplotlib inline\n",
    "import matplotlib.pyplot as plt\n",
    "import numpy as np\n",
    "from sklearn.metrics import confusion_matrix\n",
    "import time\n",
    "from datetime import timedelta\n",
    "import math"
   ]
  },
  {
   "cell_type": "code",
   "execution_count": 5,
   "metadata": {},
   "outputs": [],
   "source": [
    "from tensorflow.keras.preprocessing import image\n",
    "from tensorflow.keras.preprocessing.image import ImageDataGenerator"
   ]
  },
  {
   "cell_type": "code",
   "execution_count": 6,
   "metadata": {},
   "outputs": [],
   "source": [
    "X_train_processing = ImageDataGenerator(rescale = 1./255,\n",
    "                                   rotation_range=25, # 0~25도 사이에서 임의의 각도로 원본이미지를 회전\n",
    "                                   width_shift_range=0.05, # 0.05범위 내에서 임의의 값만큼 임의의 방향으로 좌우 이동\n",
    "                                   height_shift_range=0.05, # 0.05범위 내에서 임의의 값만큼 임의의 방향으로 상하 이동\n",
    "                                   zoom_range=0.2, # (1-0.2)~(1+0.2) => 0.8~1.2 사이에서 임의의 수치만큼 확대/축소\n",
    "                                   horizontal_flip=True, # 좌우로 뒤집기                                   \n",
    "                                   vertical_flip=True,\n",
    "                                   fill_mode='nearest'\n",
    "                                  ) \n",
    "X_validation_processing = ImageDataGenerator(rescale = 1./255)\n",
    "X_test_processing = ImageDataGenerator(rescale = 1./255)"
   ]
  },
  {
   "cell_type": "code",
   "execution_count": 7,
   "metadata": {},
   "outputs": [],
   "source": [
    "#w/o poisoning\n",
    "#train_dir = './xray_undersampling/train/'\n",
    "#test_dir = './xray_undersampling/test/'"
   ]
  },
  {
   "cell_type": "code",
   "execution_count": 8,
   "metadata": {},
   "outputs": [],
   "source": [
    "#poisoning dataset\n",
    "train_dir = './50%/train/'\n",
    "test_dir = './50%/test/'"
   ]
  },
  {
   "cell_type": "code",
   "execution_count": 9,
   "metadata": {},
   "outputs": [
    {
     "name": "stdout",
     "output_type": "stream",
     "text": [
      "Found 2682 images belonging to 2 classes.\n",
      "Found 624 images belonging to 2 classes.\n"
     ]
    }
   ],
   "source": [
    "X_train = X_train_processing.flow_from_directory(train_dir, \n",
    "                                                    batch_size=16, # 한번에 변환된 이미지 16개씩 만들어라 라는 것\n",
    "                                                    color_mode='grayscale', # grayscale: 흑백 이미지 처리\n",
    "                                                    class_mode='binary', \n",
    "                                                    target_size=(150,150)) # target_size에 맞춰서 이미지의 크기가 조절된다\n",
    "\n",
    "X_test = X_test_processing.flow_from_directory(test_dir,\n",
    "                                                  batch_size=4,\n",
    "                                                  color_mode='grayscale',\n",
    "                                                  class_mode='binary',\n",
    "                                                  target_size=(150,150))"
   ]
  },
  {
   "cell_type": "code",
   "execution_count": 10,
   "metadata": {},
   "outputs": [
    {
     "data": {
      "text/plain": [
       "{'NORMAL': 0, 'PNEUMONIA': 1}"
      ]
     },
     "execution_count": 10,
     "metadata": {},
     "output_type": "execute_result"
    }
   ],
   "source": [
    "X_train.class_indices"
   ]
  },
  {
   "cell_type": "code",
   "execution_count": null,
   "metadata": {},
   "outputs": [],
   "source": []
  },
  {
   "cell_type": "code",
   "execution_count": 11,
   "metadata": {},
   "outputs": [],
   "source": [
    "import keras\n",
    "import tensorflow as tf\n",
    "from keras import backend as K\n",
    "from keras.models import Sequential\n",
    "\n",
    "from tensorflow.keras.optimizers import RMSprop\n",
    "from keras.callbacks import ModelCheckpoint, Callback, EarlyStopping\n",
    "from keras.utils import np_utils\n",
    "from keras.models import Sequential\n",
    "from keras.layers import Input, Dropout, Flatten, Conv2D, MaxPooling2D, Dense, Activation"
   ]
  },
  {
   "cell_type": "code",
   "execution_count": 12,
   "metadata": {},
   "outputs": [],
   "source": [
    "from functools import partial\n",
    "\n",
    "DefaultConv2D = partial(keras.layers.Conv2D,\n",
    "                        kernel_size=3, activation='relu', padding=\"SAME\")\n",
    "\n",
    "model = keras.models.Sequential([\n",
    "    DefaultConv2D(filters=64, kernel_size=7, input_shape=[150,150, 1]), #커널 7x7, 필터 64개\n",
    "    keras.layers.MaxPooling2D(pool_size=2), #크기 1/2로 줄어듦\n",
    "    DefaultConv2D(filters=128), #나머지는 default로\n",
    "    DefaultConv2D(filters=128),\n",
    "    keras.layers.MaxPooling2D(pool_size=2),\n",
    "    DefaultConv2D(filters=256),\n",
    "    DefaultConv2D(filters=256),\n",
    "    keras.layers.MaxPooling2D(pool_size=2),\n",
    "    keras.layers.Flatten(), #중간에 flatten\n",
    "    keras.layers.Dense(units=128, activation='relu'), \n",
    "    keras.layers.Dropout(0.5),\n",
    "    keras.layers.Dense(units=64, activation='relu'),\n",
    "    keras.layers.Dropout(0.5),\n",
    "    keras.layers.Dense(units=1, activation='sigmoid'),\n",
    "])"
   ]
  },
  {
   "cell_type": "code",
   "execution_count": 13,
   "metadata": {},
   "outputs": [
    {
     "name": "stderr",
     "output_type": "stream",
     "text": [
      "/home/agent/.local/lib/python3.8/site-packages/keras/optimizers/optimizer_v2/rmsprop.py:135: UserWarning: The `lr` argument is deprecated, use `learning_rate` instead.\n",
      "  super(RMSprop, self).__init__(name, **kwargs)\n"
     ]
    }
   ],
   "source": [
    "model.compile(\n",
    "    loss=tf.keras.losses.BinaryCrossentropy(label_smoothing=0),\n",
    "    optimizer=RMSprop(lr=1e-4),\n",
    "    metrics=['acc']\n",
    ")\n"
   ]
  },
  {
   "cell_type": "code",
   "execution_count": 14,
   "metadata": {},
   "outputs": [
    {
     "name": "stderr",
     "output_type": "stream",
     "text": [
      "<ipython-input-14-bbda1bd4caff>:1: UserWarning: `Model.fit_generator` is deprecated and will be removed in a future version. Please use `Model.fit`, which supports generators.\n",
      "  history = model.fit_generator(\n"
     ]
    },
    {
     "name": "stdout",
     "output_type": "stream",
     "text": [
      "Epoch 1/30\n",
      "10/10 [==============================] - 18s 1s/step - loss: 0.7080 - acc: 0.4812\n",
      "Epoch 2/30\n",
      "10/10 [==============================] - 13s 1s/step - loss: 0.6942 - acc: 0.5562\n",
      "Epoch 3/30\n",
      "10/10 [==============================] - 13s 1s/step - loss: 0.6970 - acc: 0.4625\n",
      "Epoch 4/30\n",
      "10/10 [==============================] - 13s 1s/step - loss: 0.6967 - acc: 0.5000\n",
      "Epoch 5/30\n",
      "10/10 [==============================] - 12s 1s/step - loss: 0.6944 - acc: 0.4437\n",
      "Epoch 6/30\n",
      "10/10 [==============================] - 12s 1s/step - loss: 0.6943 - acc: 0.4250\n",
      "Epoch 7/30\n",
      "10/10 [==============================] - 12s 1s/step - loss: 0.6933 - acc: 0.4875\n",
      "Epoch 8/30\n",
      "10/10 [==============================] - 12s 1s/step - loss: 0.6920 - acc: 0.5250\n",
      "Epoch 9/30\n",
      "10/10 [==============================] - 12s 1s/step - loss: 0.6955 - acc: 0.4563\n",
      "Epoch 10/30\n",
      "10/10 [==============================] - 12s 1s/step - loss: 0.6938 - acc: 0.5375\n",
      "Epoch 11/30\n",
      "10/10 [==============================] - 12s 1s/step - loss: 0.6958 - acc: 0.4000\n",
      "Epoch 12/30\n",
      "10/10 [==============================] - 12s 1s/step - loss: 0.6938 - acc: 0.4125\n",
      "Epoch 13/30\n",
      "10/10 [==============================] - 12s 1s/step - loss: 0.6932 - acc: 0.5000\n",
      "Epoch 14/30\n",
      "10/10 [==============================] - 12s 1s/step - loss: 0.6937 - acc: 0.4688\n",
      "Epoch 15/30\n",
      "10/10 [==============================] - 12s 1s/step - loss: 0.6936 - acc: 0.4375\n",
      "Epoch 16/30\n",
      "10/10 [==============================] - 12s 1s/step - loss: 0.6947 - acc: 0.5125\n",
      "Epoch 17/30\n",
      "10/10 [==============================] - 12s 1s/step - loss: 0.6935 - acc: 0.4875\n",
      "Epoch 18/30\n",
      "10/10 [==============================] - 12s 1s/step - loss: 0.6926 - acc: 0.5125\n",
      "Epoch 19/30\n",
      "10/10 [==============================] - 12s 1s/step - loss: 0.6956 - acc: 0.4625\n",
      "Epoch 20/30\n",
      "10/10 [==============================] - 12s 1s/step - loss: 0.6926 - acc: 0.5125\n",
      "Epoch 21/30\n",
      "10/10 [==============================] - 12s 1s/step - loss: 0.6910 - acc: 0.5312\n",
      "Epoch 22/30\n",
      "10/10 [==============================] - 12s 1s/step - loss: 0.6950 - acc: 0.4625\n",
      "Epoch 23/30\n",
      "10/10 [==============================] - 12s 1s/step - loss: 0.6915 - acc: 0.5688\n",
      "Epoch 24/30\n",
      "10/10 [==============================] - 12s 1s/step - loss: 0.6963 - acc: 0.4812\n",
      "Epoch 25/30\n",
      "10/10 [==============================] - 12s 1s/step - loss: 0.6939 - acc: 0.5000\n",
      "Epoch 26/30\n",
      "10/10 [==============================] - 12s 1s/step - loss: 0.6945 - acc: 0.5000\n",
      "Epoch 27/30\n",
      "10/10 [==============================] - 12s 1s/step - loss: 0.6934 - acc: 0.5375\n",
      "Epoch 28/30\n",
      "10/10 [==============================] - 12s 1s/step - loss: 0.6943 - acc: 0.4625\n",
      "Epoch 29/30\n",
      "10/10 [==============================] - 12s 1s/step - loss: 0.6942 - acc: 0.4750\n",
      "Epoch 30/30\n",
      "10/10 [==============================] - 12s 1s/step - loss: 0.6931 - acc: 0.4563\n"
     ]
    }
   ],
   "source": [
    "history = model.fit_generator(\n",
    "    X_train,\n",
    "    steps_per_epoch=10,\n",
    "    epochs=30,\n",
    "    validation_steps=50\n",
    ")"
   ]
  },
  {
   "cell_type": "code",
   "execution_count": 15,
   "metadata": {},
   "outputs": [
    {
     "name": "stdout",
     "output_type": "stream",
     "text": [
      "156/156 [==============================] - 11s 71ms/step - loss: 0.6925 - acc: 0.6250\n"
     ]
    },
    {
     "data": {
      "text/plain": [
       "[0.6924883723258972, 0.625]"
      ]
     },
     "execution_count": 15,
     "metadata": {},
     "output_type": "execute_result"
    }
   ],
   "source": [
    "# 모델 성능 평가\n",
    "model.evaluate(X_test)"
   ]
  },
  {
   "cell_type": "code",
   "execution_count": null,
   "metadata": {},
   "outputs": [],
   "source": []
  },
  {
   "cell_type": "code",
   "execution_count": 16,
   "metadata": {},
   "outputs": [],
   "source": [
    "model.compile(\n",
    "    loss=tf.keras.losses.BinaryFocalCrossentropy(),\n",
    "    optimizer=RMSprop(lr=1e-4),\n",
    "    metrics=['acc']\n",
    ")\n"
   ]
  },
  {
   "cell_type": "code",
   "execution_count": 17,
   "metadata": {},
   "outputs": [
    {
     "name": "stdout",
     "output_type": "stream",
     "text": [
      "Epoch 1/30\n"
     ]
    },
    {
     "name": "stderr",
     "output_type": "stream",
     "text": [
      "<ipython-input-17-50da17d6b332>:1: UserWarning: `Model.fit_generator` is deprecated and will be removed in a future version. Please use `Model.fit`, which supports generators.\n",
      "  history = model.fit_generator(\n"
     ]
    },
    {
     "name": "stdout",
     "output_type": "stream",
     "text": [
      "10/10 [==============================] - 13s 1s/step - loss: 0.1740 - acc: 0.4875\n",
      "Epoch 2/30\n",
      "10/10 [==============================] - 11s 1s/step - loss: 0.1734 - acc: 0.4805\n",
      "Epoch 3/30\n",
      "10/10 [==============================] - 12s 1s/step - loss: 0.1735 - acc: 0.4750\n",
      "Epoch 4/30\n",
      "10/10 [==============================] - 12s 1s/step - loss: 0.1734 - acc: 0.4500\n",
      "Epoch 5/30\n",
      "10/10 [==============================] - 12s 1s/step - loss: 0.1727 - acc: 0.5063\n",
      "Epoch 6/30\n",
      "10/10 [==============================] - 12s 1s/step - loss: 0.1739 - acc: 0.4938\n",
      "Epoch 7/30\n",
      "10/10 [==============================] - 12s 1s/step - loss: 0.1739 - acc: 0.4688\n",
      "Epoch 8/30\n",
      "10/10 [==============================] - 11s 1s/step - loss: 0.1730 - acc: 0.5437\n",
      "Epoch 9/30\n",
      "10/10 [==============================] - 12s 1s/step - loss: 0.1727 - acc: 0.5813\n",
      "Epoch 10/30\n",
      "10/10 [==============================] - 11s 1s/step - loss: 0.1724 - acc: 0.5750\n",
      "Epoch 11/30\n",
      "10/10 [==============================] - 12s 1s/step - loss: 0.1737 - acc: 0.4938\n",
      "Epoch 12/30\n",
      "10/10 [==============================] - 12s 1s/step - loss: 0.1748 - acc: 0.4688\n",
      "Epoch 13/30\n",
      "10/10 [==============================] - 13s 1s/step - loss: 0.1730 - acc: 0.5750\n",
      "Epoch 14/30\n",
      "10/10 [==============================] - 12s 1s/step - loss: 0.1732 - acc: 0.5250\n",
      "Epoch 15/30\n",
      "10/10 [==============================] - 12s 1s/step - loss: 0.1732 - acc: 0.5000\n",
      "Epoch 16/30\n",
      "10/10 [==============================] - 13s 1s/step - loss: 0.1739 - acc: 0.5813\n",
      "Epoch 17/30\n",
      "10/10 [==============================] - 13s 1s/step - loss: 0.1744 - acc: 0.4500\n",
      "Epoch 18/30\n",
      "10/10 [==============================] - 12s 1s/step - loss: 0.1729 - acc: 0.4938\n",
      "Epoch 19/30\n",
      "10/10 [==============================] - 12s 1s/step - loss: 0.1737 - acc: 0.4688\n",
      "Epoch 20/30\n",
      "10/10 [==============================] - 12s 1s/step - loss: 0.1734 - acc: 0.5125\n",
      "Epoch 21/30\n",
      "10/10 [==============================] - 12s 1s/step - loss: 0.1739 - acc: 0.4375\n",
      "Epoch 22/30\n",
      "10/10 [==============================] - 11s 1s/step - loss: 0.1735 - acc: 0.4125\n",
      "Epoch 23/30\n",
      "10/10 [==============================] - 12s 1s/step - loss: 0.1733 - acc: 0.4875\n",
      "Epoch 24/30\n",
      "10/10 [==============================] - 12s 1s/step - loss: 0.1724 - acc: 0.5500\n",
      "Epoch 25/30\n",
      "10/10 [==============================] - 12s 1s/step - loss: 0.1748 - acc: 0.4875\n",
      "Epoch 26/30\n",
      "10/10 [==============================] - 13s 1s/step - loss: 0.1733 - acc: 0.5188\n",
      "Epoch 27/30\n",
      "10/10 [==============================] - 14s 1s/step - loss: 0.1749 - acc: 0.4875\n",
      "Epoch 28/30\n",
      "10/10 [==============================] - 13s 1s/step - loss: 0.1738 - acc: 0.4625\n",
      "Epoch 29/30\n",
      "10/10 [==============================] - 12s 1s/step - loss: 0.1726 - acc: 0.5325\n",
      "Epoch 30/30\n",
      "10/10 [==============================] - 13s 1s/step - loss: 0.1723 - acc: 0.5312\n"
     ]
    }
   ],
   "source": [
    "history = model.fit_generator(\n",
    "    X_train,\n",
    "    steps_per_epoch=10, \n",
    "    epochs=30,\n",
    "    validation_steps=50\n",
    ")"
   ]
  },
  {
   "cell_type": "code",
   "execution_count": 18,
   "metadata": {},
   "outputs": [
    {
     "name": "stdout",
     "output_type": "stream",
     "text": [
      "156/156 [==============================] - 12s 78ms/step - loss: 0.1702 - acc: 0.6250\n"
     ]
    },
    {
     "data": {
      "text/plain": [
       "[0.17023253440856934, 0.625]"
      ]
     },
     "execution_count": 18,
     "metadata": {},
     "output_type": "execute_result"
    }
   ],
   "source": [
    "# 모델 성능 평가\n",
    "model.evaluate(X_test)"
   ]
  },
  {
   "cell_type": "code",
   "execution_count": null,
   "metadata": {},
   "outputs": [],
   "source": []
  },
  {
   "cell_type": "code",
   "execution_count": null,
   "metadata": {},
   "outputs": [],
   "source": []
  },
  {
   "cell_type": "code",
   "execution_count": null,
   "metadata": {},
   "outputs": [],
   "source": []
  }
 ],
 "metadata": {
  "kernelspec": {
   "display_name": "Python 3",
   "language": "python",
   "name": "python3"
  },
  "language_info": {
   "codemirror_mode": {
    "name": "ipython",
    "version": 3
   },
   "file_extension": ".py",
   "mimetype": "text/x-python",
   "name": "python",
   "nbconvert_exporter": "python",
   "pygments_lexer": "ipython3",
   "version": "3.8.10"
  }
 },
 "nbformat": 4,
 "nbformat_minor": 4
}
